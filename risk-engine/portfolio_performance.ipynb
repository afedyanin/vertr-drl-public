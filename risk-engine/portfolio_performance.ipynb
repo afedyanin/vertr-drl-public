{
 "cells": [
  {
   "cell_type": "code",
   "id": "initial_id",
   "metadata": {
    "collapsed": true,
    "ExecuteTime": {
     "end_time": "2024-12-30T06:39:36.837524Z",
     "start_time": "2024-12-30T06:39:34.165666Z"
    }
   },
   "source": [
    "import sys\n",
    "import pandas as pd\n",
    "sys.path.append(\"../airflow/plugins\")\n",
    "from db_connection import DbConnection\n",
    "from domain_model import Instrument, Interval\n",
    "from portfolio import Portfolio"
   ],
   "outputs": [],
   "execution_count": 2
  },
  {
   "metadata": {
    "ExecuteTime": {
     "end_time": "2024-12-30T06:39:38.403418Z",
     "start_time": "2024-12-30T06:39:38.257438Z"
    }
   },
   "cell_type": "code",
   "source": [
    "db_connection = DbConnection.local_db_connection()\n",
    "instrument = Instrument.get_instrument(\"SBER\")\n",
    "interval = Interval.min_10\n",
    "portfolio = Portfolio(db_connection, instrument, interval)"
   ],
   "id": "3301e46a26455a71",
   "outputs": [],
   "execution_count": 3
  },
  {
   "metadata": {
    "ExecuteTime": {
     "end_time": "2024-12-30T06:39:47.410623Z",
     "start_time": "2024-12-30T06:39:39.531375Z"
    }
   },
   "cell_type": "code",
   "source": [
    "yield_df = portfolio.get_yield(initial_balance=100000)\n",
    "yield_df"
   ],
   "id": "638fd13d56a2a179",
   "outputs": [
    {
     "data": {
      "text/plain": [
       "                           yield  yield_with_commission\n",
       "time_utc                                               \n",
       "2024-12-25 07:00:00+00:00  0.000              -0.013118\n",
       "2024-12-25 07:10:00+00:00 -0.073              -0.112428\n",
       "2024-12-25 07:30:00+00:00  0.013              -0.052825\n",
       "2024-12-25 08:10:00+00:00  0.054              -0.038180\n",
       "2024-12-25 08:20:00+00:00  0.149               0.030370\n",
       "...                          ...                    ...\n",
       "2024-12-28 14:40:00+00:00  0.358              -2.035442\n",
       "2024-12-28 15:10:00+00:00  0.330              -2.090613\n",
       "2024-12-28 15:20:00+00:00  0.327              -2.120781\n",
       "2024-12-28 16:10:00+00:00  0.311              -2.163965\n",
       "2024-12-28 16:40:00+00:00  0.305              -2.197143\n",
       "\n",
       "[93 rows x 2 columns]"
      ],
      "text/html": [
       "<div>\n",
       "<style scoped>\n",
       "    .dataframe tbody tr th:only-of-type {\n",
       "        vertical-align: middle;\n",
       "    }\n",
       "\n",
       "    .dataframe tbody tr th {\n",
       "        vertical-align: top;\n",
       "    }\n",
       "\n",
       "    .dataframe thead th {\n",
       "        text-align: right;\n",
       "    }\n",
       "</style>\n",
       "<table border=\"1\" class=\"dataframe\">\n",
       "  <thead>\n",
       "    <tr style=\"text-align: right;\">\n",
       "      <th></th>\n",
       "      <th>yield</th>\n",
       "      <th>yield_with_commission</th>\n",
       "    </tr>\n",
       "    <tr>\n",
       "      <th>time_utc</th>\n",
       "      <th></th>\n",
       "      <th></th>\n",
       "    </tr>\n",
       "  </thead>\n",
       "  <tbody>\n",
       "    <tr>\n",
       "      <th>2024-12-25 07:00:00+00:00</th>\n",
       "      <td>0.000</td>\n",
       "      <td>-0.013118</td>\n",
       "    </tr>\n",
       "    <tr>\n",
       "      <th>2024-12-25 07:10:00+00:00</th>\n",
       "      <td>-0.073</td>\n",
       "      <td>-0.112428</td>\n",
       "    </tr>\n",
       "    <tr>\n",
       "      <th>2024-12-25 07:30:00+00:00</th>\n",
       "      <td>0.013</td>\n",
       "      <td>-0.052825</td>\n",
       "    </tr>\n",
       "    <tr>\n",
       "      <th>2024-12-25 08:10:00+00:00</th>\n",
       "      <td>0.054</td>\n",
       "      <td>-0.038180</td>\n",
       "    </tr>\n",
       "    <tr>\n",
       "      <th>2024-12-25 08:20:00+00:00</th>\n",
       "      <td>0.149</td>\n",
       "      <td>0.030370</td>\n",
       "    </tr>\n",
       "    <tr>\n",
       "      <th>...</th>\n",
       "      <td>...</td>\n",
       "      <td>...</td>\n",
       "    </tr>\n",
       "    <tr>\n",
       "      <th>2024-12-28 14:40:00+00:00</th>\n",
       "      <td>0.358</td>\n",
       "      <td>-2.035442</td>\n",
       "    </tr>\n",
       "    <tr>\n",
       "      <th>2024-12-28 15:10:00+00:00</th>\n",
       "      <td>0.330</td>\n",
       "      <td>-2.090613</td>\n",
       "    </tr>\n",
       "    <tr>\n",
       "      <th>2024-12-28 15:20:00+00:00</th>\n",
       "      <td>0.327</td>\n",
       "      <td>-2.120781</td>\n",
       "    </tr>\n",
       "    <tr>\n",
       "      <th>2024-12-28 16:10:00+00:00</th>\n",
       "      <td>0.311</td>\n",
       "      <td>-2.163965</td>\n",
       "    </tr>\n",
       "    <tr>\n",
       "      <th>2024-12-28 16:40:00+00:00</th>\n",
       "      <td>0.305</td>\n",
       "      <td>-2.197143</td>\n",
       "    </tr>\n",
       "  </tbody>\n",
       "</table>\n",
       "<p>93 rows × 2 columns</p>\n",
       "</div>"
      ]
     },
     "execution_count": 4,
     "metadata": {},
     "output_type": "execute_result"
    }
   ],
   "execution_count": 4
  },
  {
   "metadata": {
    "ExecuteTime": {
     "end_time": "2024-12-30T06:39:50.006460Z",
     "start_time": "2024-12-30T06:39:49.998135Z"
    }
   },
   "cell_type": "code",
   "source": [
    "avg_yield = yield_df['yield'].mean()\n",
    "daily_yield = avg_yield / 4\n",
    "annual_yield =  daily_yield * 248\n",
    "print(f'Annual yield:{annual_yield}')"
   ],
   "id": "e620a96abe50c74f",
   "outputs": [
    {
     "name": "stdout",
     "output_type": "stream",
     "text": [
      "Annual yield:9.776666666667374\n"
     ]
    }
   ],
   "execution_count": 5
  },
  {
   "metadata": {
    "ExecuteTime": {
     "end_time": "2024-12-30T06:39:53.228007Z",
     "start_time": "2024-12-30T06:39:51.676927Z"
    }
   },
   "cell_type": "code",
   "source": [
    "#yield_df['yield'].plot()\n",
    "yield_df.plot()"
   ],
   "id": "9843e512673cc96b",
   "outputs": [
    {
     "data": {
      "text/plain": [
       "<Axes: xlabel='time_utc'>"
      ]
     },
     "execution_count": 6,
     "metadata": {},
     "output_type": "execute_result"
    },
    {
     "data": {
      "text/plain": [
       "<Figure size 640x480 with 1 Axes>"
      ],
      "image/png": "[encoded data removed]"
     },
     "metadata": {},
     "output_type": "display_data"
    }
   ],
   "execution_count": 6
  },
  {
   "metadata": {
    "ExecuteTime": {
     "end_time": "2024-12-28T22:27:36.106380Z",
     "start_time": "2024-12-28T22:27:36.081665Z"
    }
   },
   "cell_type": "code",
   "source": [
    "operations_df = portfolio._get_operations(grouped=True)\n",
    "operations_df"
   ],
   "id": "c241c3d81af192de",
   "outputs": [
    {
     "data": {
      "text/plain": [
       "                            price  quantity  commission\n",
       "time_utc                                               \n",
       "2024-12-25 07:00:00+00:00  262.37      -100    -13.1185\n",
       "2024-12-25 07:10:00+00:00  263.10       200    -26.3100\n",
       "2024-12-25 07:30:00+00:00  263.96      -200    -26.3960\n",
       "2024-12-25 08:10:00+00:00  263.55       200    -26.3550\n",
       "2024-12-25 08:20:00+00:00  264.50      -200    -26.4500\n",
       "...                           ...       ...         ...\n",
       "2024-12-28 14:40:00+00:00  271.43      -200    -27.1430\n",
       "2024-12-28 15:10:00+00:00  271.71       200    -27.1710\n",
       "2024-12-28 15:20:00+00:00  271.68      -200    -27.1680\n",
       "2024-12-28 16:10:00+00:00  271.84       200    -27.1840\n",
       "2024-12-28 16:40:00+00:00  271.78      -200    -27.1780\n",
       "\n",
       "[93 rows x 3 columns]"
      ],
      "text/html": [
       "<div>\n",
       "<style scoped>\n",
       "    .dataframe tbody tr th:only-of-type {\n",
       "        vertical-align: middle;\n",
       "    }\n",
       "\n",
       "    .dataframe tbody tr th {\n",
       "        vertical-align: top;\n",
       "    }\n",
       "\n",
       "    .dataframe thead th {\n",
       "        text-align: right;\n",
       "    }\n",
       "</style>\n",
       "<table border=\"1\" class=\"dataframe\">\n",
       "  <thead>\n",
       "    <tr style=\"text-align: right;\">\n",
       "      <th></th>\n",
       "      <th>price</th>\n",
       "      <th>quantity</th>\n",
       "      <th>commission</th>\n",
       "    </tr>\n",
       "    <tr>\n",
       "      <th>time_utc</th>\n",
       "      <th></th>\n",
       "      <th></th>\n",
       "      <th></th>\n",
       "    </tr>\n",
       "  </thead>\n",
       "  <tbody>\n",
       "    <tr>\n",
       "      <th>2024-12-25 07:00:00+00:00</th>\n",
       "      <td>262.37</td>\n",
       "      <td>-100</td>\n",
       "      <td>-13.1185</td>\n",
       "    </tr>\n",
       "    <tr>\n",
       "      <th>2024-12-25 07:10:00+00:00</th>\n",
       "      <td>263.10</td>\n",
       "      <td>200</td>\n",
       "      <td>-26.3100</td>\n",
       "    </tr>\n",
       "    <tr>\n",
       "      <th>2024-12-25 07:30:00+00:00</th>\n",
       "      <td>263.96</td>\n",
       "      <td>-200</td>\n",
       "      <td>-26.3960</td>\n",
       "    </tr>\n",
       "    <tr>\n",
       "      <th>2024-12-25 08:10:00+00:00</th>\n",
       "      <td>263.55</td>\n",
       "      <td>200</td>\n",
       "      <td>-26.3550</td>\n",
       "    </tr>\n",
       "    <tr>\n",
       "      <th>2024-12-25 08:20:00+00:00</th>\n",
       "      <td>264.50</td>\n",
       "      <td>-200</td>\n",
       "      <td>-26.4500</td>\n",
       "    </tr>\n",
       "    <tr>\n",
       "      <th>...</th>\n",
       "      <td>...</td>\n",
       "      <td>...</td>\n",
       "      <td>...</td>\n",
       "    </tr>\n",
       "    <tr>\n",
       "      <th>2024-12-28 14:40:00+00:00</th>\n",
       "      <td>271.43</td>\n",
       "      <td>-200</td>\n",
       "      <td>-27.1430</td>\n",
       "    </tr>\n",
       "    <tr>\n",
       "      <th>2024-12-28 15:10:00+00:00</th>\n",
       "      <td>271.71</td>\n",
       "      <td>200</td>\n",
       "      <td>-27.1710</td>\n",
       "    </tr>\n",
       "    <tr>\n",
       "      <th>2024-12-28 15:20:00+00:00</th>\n",
       "      <td>271.68</td>\n",
       "      <td>-200</td>\n",
       "      <td>-27.1680</td>\n",
       "    </tr>\n",
       "    <tr>\n",
       "      <th>2024-12-28 16:10:00+00:00</th>\n",
       "      <td>271.84</td>\n",
       "      <td>200</td>\n",
       "      <td>-27.1840</td>\n",
       "    </tr>\n",
       "    <tr>\n",
       "      <th>2024-12-28 16:40:00+00:00</th>\n",
       "      <td>271.78</td>\n",
       "      <td>-200</td>\n",
       "      <td>-27.1780</td>\n",
       "    </tr>\n",
       "  </tbody>\n",
       "</table>\n",
       "<p>93 rows × 3 columns</p>\n",
       "</div>"
      ]
     },
     "execution_count": 13,
     "metadata": {},
     "output_type": "execute_result"
    }
   ],
   "execution_count": 13
  },
  {
   "metadata": {
    "ExecuteTime": {
     "end_time": "2024-12-28T22:27:36.110382Z",
     "start_time": "2024-12-28T22:27:36.106380Z"
    }
   },
   "cell_type": "code",
   "source": "",
   "id": "26621bb858f03d7f",
   "outputs": [],
   "execution_count": 13
  }
 ],
 "metadata": {
  "kernelspec": {
   "display_name": "Python 3",
   "language": "python",
   "name": "python3"
  },
  "language_info": {
   "codemirror_mode": {
    "name": "ipython",
    "version": 2
   },
   "file_extension": ".py",
   "mimetype": "text/x-python",
   "name": "python",
   "nbconvert_exporter": "python",
   "pygments_lexer": "ipython2",
   "version": "2.7.6"
  }
 },
 "nbformat": 4,
 "nbformat_minor": 5
}
