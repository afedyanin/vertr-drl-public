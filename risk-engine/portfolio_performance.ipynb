{
 "cells": [
  {
   "cell_type": "code",
   "id": "initial_id",
   "metadata": {
    "collapsed": true,
    "ExecuteTime": {
     "end_time": "2024-12-06T15:23:20.427190Z",
     "start_time": "2024-12-06T15:23:20.419050Z"
    }
   },
   "source": [
    "import sys\n",
    "\n",
    "import pandas as pd\n",
    "\n",
    "sys.path.append(\"../airflow/plugins\")\n",
    "\n",
    "from db_connection import DbConnection\n",
    "from domain_model import Instrument, Interval\n",
    "from portfolio import Portfolio\n"
   ],
   "outputs": [],
   "execution_count": 8
  },
  {
   "metadata": {
    "ExecuteTime": {
     "end_time": "2024-12-06T15:15:56.971068Z",
     "start_time": "2024-12-06T15:15:56.888459Z"
    }
   },
   "cell_type": "code",
   "source": [
    "db_connection = DbConnection.local_db_connection()\n",
    "instrument = Instrument.get_instrument(\"SBER\")\n",
    "interval = Interval.hour_1\n",
    "portfolio = Portfolio(db_connection, instrument, interval)"
   ],
   "id": "3301e46a26455a71",
   "outputs": [],
   "execution_count": 2
  },
  {
   "metadata": {
    "ExecuteTime": {
     "end_time": "2024-12-06T15:15:58.190364Z",
     "start_time": "2024-12-06T15:15:58.188362Z"
    }
   },
   "cell_type": "code",
   "source": [
    "#trading_pnl = portfolio.get_trading_pnl()\n",
    "#trading_pnl"
   ],
   "id": "eb2938bedd767ffa",
   "outputs": [],
   "execution_count": 3
  },
  {
   "metadata": {
    "ExecuteTime": {
     "end_time": "2024-12-06T15:15:59.286534Z",
     "start_time": "2024-12-06T15:15:58.798897Z"
    }
   },
   "cell_type": "code",
   "source": [
    "total_pnl = portfolio.get_pnl()\n",
    "total_pnl"
   ],
   "id": "abe965e0c4c36591",
   "outputs": [
    {
     "data": {
      "text/plain": [
       "                             open   close  quantity  commission  trading_pnl  \\\n",
       "time_utc                                                                       \n",
       "2024-12-02 06:00:00+00:00  237.02  237.85     -10.0    -1.18925          0.0   \n",
       "2024-12-02 07:00:00+00:00  237.09  237.61       0.0     0.00000          0.0   \n",
       "2024-12-02 08:00:00+00:00  237.64  237.00       0.0     0.00000          0.0   \n",
       "2024-12-02 09:00:00+00:00  236.98  235.70       0.0     0.00000          0.0   \n",
       "2024-12-02 10:00:00+00:00  235.72  235.70       0.0     0.00000          0.0   \n",
       "...                           ...     ...       ...         ...          ...   \n",
       "2024-12-06 11:00:00+00:00  233.89  235.89     -20.0    -2.33760        -42.6   \n",
       "2024-12-06 12:00:00+00:00  235.87  236.80      20.0    -2.36400          8.0   \n",
       "2024-12-06 13:00:00+00:00  236.80  237.02     -20.0    -2.36820         -4.0   \n",
       "2024-12-06 14:00:00+00:00  237.02  236.68       0.0     0.00000          0.0   \n",
       "2024-12-06 15:00:00+00:00  236.70  236.77      20.0    -2.36890         -2.4   \n",
       "\n",
       "                           quantity_cum  mtm_pnl  total_pnl  total_pnl_cum  \n",
       "time_utc                                                                    \n",
       "2024-12-02 06:00:00+00:00         -10.0      NaN        NaN            NaN  \n",
       "2024-12-02 07:00:00+00:00         -10.0      2.4        2.4            2.4  \n",
       "2024-12-02 08:00:00+00:00         -10.0      6.1        6.1            8.5  \n",
       "2024-12-02 09:00:00+00:00         -10.0     13.0       13.0           21.5  \n",
       "2024-12-02 10:00:00+00:00         -10.0     -0.0        0.0           21.5  \n",
       "...                                 ...      ...        ...            ...  \n",
       "2024-12-06 11:00:00+00:00         -10.0    -20.4      -63.0          -13.2  \n",
       "2024-12-06 12:00:00+00:00          10.0      9.1       17.1            3.9  \n",
       "2024-12-06 13:00:00+00:00         -10.0     -2.2       -6.2           -2.3  \n",
       "2024-12-06 14:00:00+00:00         -10.0      3.4        3.4            1.1  \n",
       "2024-12-06 15:00:00+00:00          10.0      0.9       -1.5           -0.4  \n",
       "\n",
       "[69 rows x 9 columns]"
      ],
      "text/html": [
       "<div>\n",
       "<style scoped>\n",
       "    .dataframe tbody tr th:only-of-type {\n",
       "        vertical-align: middle;\n",
       "    }\n",
       "\n",
       "    .dataframe tbody tr th {\n",
       "        vertical-align: top;\n",
       "    }\n",
       "\n",
       "    .dataframe thead th {\n",
       "        text-align: right;\n",
       "    }\n",
       "</style>\n",
       "<table border=\"1\" class=\"dataframe\">\n",
       "  <thead>\n",
       "    <tr style=\"text-align: right;\">\n",
       "      <th></th>\n",
       "      <th>open</th>\n",
       "      <th>close</th>\n",
       "      <th>quantity</th>\n",
       "      <th>commission</th>\n",
       "      <th>trading_pnl</th>\n",
       "      <th>quantity_cum</th>\n",
       "      <th>mtm_pnl</th>\n",
       "      <th>total_pnl</th>\n",
       "      <th>total_pnl_cum</th>\n",
       "    </tr>\n",
       "    <tr>\n",
       "      <th>time_utc</th>\n",
       "      <th></th>\n",
       "      <th></th>\n",
       "      <th></th>\n",
       "      <th></th>\n",
       "      <th></th>\n",
       "      <th></th>\n",
       "      <th></th>\n",
       "      <th></th>\n",
       "      <th></th>\n",
       "    </tr>\n",
       "  </thead>\n",
       "  <tbody>\n",
       "    <tr>\n",
       "      <th>2024-12-02 06:00:00+00:00</th>\n",
       "      <td>237.02</td>\n",
       "      <td>237.85</td>\n",
       "      <td>-10.0</td>\n",
       "      <td>-1.18925</td>\n",
       "      <td>0.0</td>\n",
       "      <td>-10.0</td>\n",
       "      <td>NaN</td>\n",
       "      <td>NaN</td>\n",
       "      <td>NaN</td>\n",
       "    </tr>\n",
       "    <tr>\n",
       "      <th>2024-12-02 07:00:00+00:00</th>\n",
       "      <td>237.09</td>\n",
       "      <td>237.61</td>\n",
       "      <td>0.0</td>\n",
       "      <td>0.00000</td>\n",
       "      <td>0.0</td>\n",
       "      <td>-10.0</td>\n",
       "      <td>2.4</td>\n",
       "      <td>2.4</td>\n",
       "      <td>2.4</td>\n",
       "    </tr>\n",
       "    <tr>\n",
       "      <th>2024-12-02 08:00:00+00:00</th>\n",
       "      <td>237.64</td>\n",
       "      <td>237.00</td>\n",
       "      <td>0.0</td>\n",
       "      <td>0.00000</td>\n",
       "      <td>0.0</td>\n",
       "      <td>-10.0</td>\n",
       "      <td>6.1</td>\n",
       "      <td>6.1</td>\n",
       "      <td>8.5</td>\n",
       "    </tr>\n",
       "    <tr>\n",
       "      <th>2024-12-02 09:00:00+00:00</th>\n",
       "      <td>236.98</td>\n",
       "      <td>235.70</td>\n",
       "      <td>0.0</td>\n",
       "      <td>0.00000</td>\n",
       "      <td>0.0</td>\n",
       "      <td>-10.0</td>\n",
       "      <td>13.0</td>\n",
       "      <td>13.0</td>\n",
       "      <td>21.5</td>\n",
       "    </tr>\n",
       "    <tr>\n",
       "      <th>2024-12-02 10:00:00+00:00</th>\n",
       "      <td>235.72</td>\n",
       "      <td>235.70</td>\n",
       "      <td>0.0</td>\n",
       "      <td>0.00000</td>\n",
       "      <td>0.0</td>\n",
       "      <td>-10.0</td>\n",
       "      <td>-0.0</td>\n",
       "      <td>0.0</td>\n",
       "      <td>21.5</td>\n",
       "    </tr>\n",
       "    <tr>\n",
       "      <th>...</th>\n",
       "      <td>...</td>\n",
       "      <td>...</td>\n",
       "      <td>...</td>\n",
       "      <td>...</td>\n",
       "      <td>...</td>\n",
       "      <td>...</td>\n",
       "      <td>...</td>\n",
       "      <td>...</td>\n",
       "      <td>...</td>\n",
       "    </tr>\n",
       "    <tr>\n",
       "      <th>2024-12-06 11:00:00+00:00</th>\n",
       "      <td>233.89</td>\n",
       "      <td>235.89</td>\n",
       "      <td>-20.0</td>\n",
       "      <td>-2.33760</td>\n",
       "      <td>-42.6</td>\n",
       "      <td>-10.0</td>\n",
       "      <td>-20.4</td>\n",
       "      <td>-63.0</td>\n",
       "      <td>-13.2</td>\n",
       "    </tr>\n",
       "    <tr>\n",
       "      <th>2024-12-06 12:00:00+00:00</th>\n",
       "      <td>235.87</td>\n",
       "      <td>236.80</td>\n",
       "      <td>20.0</td>\n",
       "      <td>-2.36400</td>\n",
       "      <td>8.0</td>\n",
       "      <td>10.0</td>\n",
       "      <td>9.1</td>\n",
       "      <td>17.1</td>\n",
       "      <td>3.9</td>\n",
       "    </tr>\n",
       "    <tr>\n",
       "      <th>2024-12-06 13:00:00+00:00</th>\n",
       "      <td>236.80</td>\n",
       "      <td>237.02</td>\n",
       "      <td>-20.0</td>\n",
       "      <td>-2.36820</td>\n",
       "      <td>-4.0</td>\n",
       "      <td>-10.0</td>\n",
       "      <td>-2.2</td>\n",
       "      <td>-6.2</td>\n",
       "      <td>-2.3</td>\n",
       "    </tr>\n",
       "    <tr>\n",
       "      <th>2024-12-06 14:00:00+00:00</th>\n",
       "      <td>237.02</td>\n",
       "      <td>236.68</td>\n",
       "      <td>0.0</td>\n",
       "      <td>0.00000</td>\n",
       "      <td>0.0</td>\n",
       "      <td>-10.0</td>\n",
       "      <td>3.4</td>\n",
       "      <td>3.4</td>\n",
       "      <td>1.1</td>\n",
       "    </tr>\n",
       "    <tr>\n",
       "      <th>2024-12-06 15:00:00+00:00</th>\n",
       "      <td>236.70</td>\n",
       "      <td>236.77</td>\n",
       "      <td>20.0</td>\n",
       "      <td>-2.36890</td>\n",
       "      <td>-2.4</td>\n",
       "      <td>10.0</td>\n",
       "      <td>0.9</td>\n",
       "      <td>-1.5</td>\n",
       "      <td>-0.4</td>\n",
       "    </tr>\n",
       "  </tbody>\n",
       "</table>\n",
       "<p>69 rows × 9 columns</p>\n",
       "</div>"
      ]
     },
     "execution_count": 4,
     "metadata": {},
     "output_type": "execute_result"
    }
   ],
   "execution_count": 4
  },
  {
   "metadata": {
    "ExecuteTime": {
     "end_time": "2024-12-06T15:23:04.312945Z",
     "start_time": "2024-12-06T15:23:04.306239Z"
    }
   },
   "cell_type": "code",
   "source": "total_pnl.to_csv(\"total_pnl.csv\")",
   "id": "eaa34c425b35dc0d",
   "outputs": [],
   "execution_count": 6
  },
  {
   "metadata": {
    "ExecuteTime": {
     "end_time": "2024-12-06T15:23:54.001137Z",
     "start_time": "2024-12-06T15:23:53.946139Z"
    }
   },
   "cell_type": "code",
   "source": [
    "df = pd.read_csv(\"total_pnl.csv\")\n",
    "df[\"total_pnl_cum\"].plot()"
   ],
   "id": "cca41f82c043d821",
   "outputs": [
    {
     "data": {
      "text/plain": [
       "<Axes: >"
      ]
     },
     "execution_count": 10,
     "metadata": {},
     "output_type": "execute_result"
    },
    {
     "data": {
      "text/plain": [
       "<Figure size 640x480 with 1 Axes>"
      ],
      "image/png": "[encoded data removed]"
     },
     "metadata": {},
     "output_type": "display_data"
    }
   ],
   "execution_count": 10
  },
  {
   "metadata": {},
   "cell_type": "code",
   "outputs": [],
   "execution_count": null,
   "source": "",
   "id": "9843e512673cc96b"
  }
 ],
 "metadata": {
  "kernelspec": {
   "display_name": "Python 3",
   "language": "python",
   "name": "python3"
  },
  "language_info": {
   "codemirror_mode": {
    "name": "ipython",
    "version": 2
   },
   "file_extension": ".py",
   "mimetype": "text/x-python",
   "name": "python",
   "nbconvert_exporter": "python",
   "pygments_lexer": "ipython2",
   "version": "2.7.6"
  }
 },
 "nbformat": 4,
 "nbformat_minor": 5
}
